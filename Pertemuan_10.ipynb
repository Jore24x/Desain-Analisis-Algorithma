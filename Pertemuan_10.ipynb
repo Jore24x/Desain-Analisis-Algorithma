{
  "nbformat": 4,
  "nbformat_minor": 0,
  "metadata": {
    "colab": {
      "provenance": [],
      "authorship_tag": "ABX9TyOnlRNEU/Ho6FAKi7gCr1tY",
      "include_colab_link": true
    },
    "kernelspec": {
      "name": "python3",
      "display_name": "Python 3"
    },
    "language_info": {
      "name": "python"
    }
  },
  "cells": [
    {
      "cell_type": "markdown",
      "metadata": {
        "id": "view-in-github",
        "colab_type": "text"
      },
      "source": [
        "<a href=\"https://colab.research.google.com/github/Jore24x/Desain-Analisis-Algorithma/blob/main/Pertemuan_10.ipynb\" target=\"_parent\"><img src=\"https://colab.research.google.com/assets/colab-badge.svg\" alt=\"Open In Colab\"/></a>"
      ]
    },
    {
      "cell_type": "code",
      "execution_count": 110,
      "metadata": {
        "colab": {
          "base_uri": "https://localhost:8080/"
        },
        "id": "agMT6h5tFVNs",
        "outputId": "86c40ffa-1c24-443c-f3e6-96cc0985e5c3"
      },
      "outputs": [
        {
          "output_type": "stream",
          "name": "stdout",
          "text": [
            "Looking in indexes: https://pypi.org/simple, https://us-python.pkg.dev/colab-wheels/public/simple/\n",
            "Requirement already satisfied: PulP==2.6.0 in /usr/local/lib/python3.7/dist-packages (2.6.0)\n"
          ]
        }
      ],
      "source": [
        "pip install PulP==2.6.0\n"
      ]
    },
    {
      "cell_type": "code",
      "source": [
        "import pulp"
      ],
      "metadata": {
        "id": "0TGPFeFVFXo8"
      },
      "execution_count": 111,
      "outputs": []
    },
    {
      "cell_type": "code",
      "source": [
        "# Instantiate our problem class\n",
        "model = pulp.LpProblem(\"ProfitMaximisingProblem\" , pulp.LpMaximize)"
      ],
      "metadata": {
        "id": "mSnDdfrKS7Yt"
      },
      "execution_count": 112,
      "outputs": []
    },
    {
      "cell_type": "code",
      "source": [
        "A = pulp.LpVariable('A' , lowBound=0, cat ='Integer')\n",
        "B = pulp.LpVariable('B' , lowBound=0, cat ='Integer')"
      ],
      "metadata": {
        "id": "f1zjSP0STqA6"
      },
      "execution_count": 113,
      "outputs": []
    },
    {
      "cell_type": "code",
      "source": [
        "# Objective Function\n",
        "model += 5000 * A + 2500 * B, \"Profit\"\n",
        "# Constraints\n",
        "model += 3 * A + 2 * B <= 20\n",
        "model += 4 * A + 3 * B <= 30\n",
        "model += 4 * A + 3 * B <= 30\n"
      ],
      "metadata": {
        "id": "kQxJAIWjT_r4"
      },
      "execution_count": 114,
      "outputs": []
    },
    {
      "cell_type": "code",
      "source": [
        "# solve our problem\n",
        "model.solve()\n",
        "pulp.LpStatus[model.status]"
      ],
      "metadata": {
        "colab": {
          "base_uri": "https://localhost:8080/",
          "height": 36
        },
        "id": "kBHunAEGU1tJ",
        "outputId": "1104909c-92ff-49cb-b656-fd016c7a4bba"
      },
      "execution_count": 115,
      "outputs": [
        {
          "output_type": "execute_result",
          "data": {
            "text/plain": [
              "'Optimal'"
            ],
            "application/vnd.google.colaboratory.intrinsic+json": {
              "type": "string"
            }
          },
          "metadata": {},
          "execution_count": 115
        }
      ]
    },
    {
      "cell_type": "code",
      "source": [
        "#print our dicision variable values\n",
        "print (A.varValue)\n",
        "print (B.varValue)"
      ],
      "metadata": {
        "colab": {
          "base_uri": "https://localhost:8080/"
        },
        "id": "jVzdOn6MVJAz",
        "outputId": "626e1eee-ac80-44cd-9de5-f0d24ee853a3"
      },
      "execution_count": 116,
      "outputs": [
        {
          "output_type": "stream",
          "name": "stdout",
          "text": [
            "6.0\n",
            "1.0\n"
          ]
        }
      ]
    },
    {
      "cell_type": "code",
      "source": [
        "# print our objection function value\n",
        "print (pulp.value(model.objective))"
      ],
      "metadata": {
        "colab": {
          "base_uri": "https://localhost:8080/"
        },
        "id": "taIzxuq0aJfh",
        "outputId": "7e908217-e0c7-494b-ab34-8a1dce8e51d5"
      },
      "execution_count": 117,
      "outputs": [
        {
          "output_type": "stream",
          "name": "stdout",
          "text": [
            "32500.0\n"
          ]
        }
      ]
    },
    {
      "cell_type": "markdown",
      "source": [],
      "metadata": {
        "id": "oggufHowYxOD"
      }
    },
    {
      "cell_type": "code",
      "source": [
        "x = pulp.LpVariable('x' , lowBound=0, cat ='Integer')\n",
        "y = pulp.LpVariable('y' , lowBound=0, cat ='Integer')"
      ],
      "metadata": {
        "id": "eiMj_g6oV8Vj"
      },
      "execution_count": 118,
      "outputs": []
    },
    {
      "cell_type": "code",
      "source": [
        "model += 4 * x + 3 * y <= 34\n",
        "model += 5 * x +  B <= 37\n",
        "\n"
      ],
      "metadata": {
        "id": "UCQWhcJmVltO"
      },
      "execution_count": 119,
      "outputs": []
    },
    {
      "cell_type": "code",
      "source": [
        "model.solve()\n",
        "pulp.LpStatus[model.status]"
      ],
      "metadata": {
        "colab": {
          "base_uri": "https://localhost:8080/",
          "height": 36
        },
        "id": "QyXTtff0WsDI",
        "outputId": "2c7e3e6e-189f-41c5-c634-a9772c4aec20"
      },
      "execution_count": 120,
      "outputs": [
        {
          "output_type": "execute_result",
          "data": {
            "text/plain": [
              "'Optimal'"
            ],
            "application/vnd.google.colaboratory.intrinsic+json": {
              "type": "string"
            }
          },
          "metadata": {},
          "execution_count": 120
        }
      ]
    },
    {
      "cell_type": "code",
      "source": [
        "print (x.varValue)\n",
        "print (y.varValue)"
      ],
      "metadata": {
        "colab": {
          "base_uri": "https://localhost:8080/"
        },
        "id": "1Z-QGm3fWybq",
        "outputId": "4208ebe0-6803-490c-8714-2142ebc6a6ff"
      },
      "execution_count": 121,
      "outputs": [
        {
          "output_type": "stream",
          "name": "stdout",
          "text": [
            "0.0\n",
            "0.0\n"
          ]
        }
      ]
    },
    {
      "cell_type": "code",
      "source": [
        "print (pulp.value(model.objective))"
      ],
      "metadata": {
        "colab": {
          "base_uri": "https://localhost:8080/"
        },
        "id": "oukUps9JZ-pa",
        "outputId": "a2e16f3a-b90b-4bd1-9607-9d16905adfa9"
      },
      "execution_count": 122,
      "outputs": [
        {
          "output_type": "stream",
          "name": "stdout",
          "text": [
            "32500.0\n"
          ]
        }
      ]
    },
    {
      "cell_type": "code",
      "source": [
        "pensil = pulp.LpVariable('pensil' , lowBound=0, cat ='Integer')\n",
        "buku = pulp.LpVariable('buku' , lowBound=0, cat ='Integer')"
      ],
      "metadata": {
        "id": "hQpe4cGrW3EX"
      },
      "execution_count": 123,
      "outputs": []
    },
    {
      "cell_type": "code",
      "source": [
        "model += 3 * pensil + 4 * buku == 11000\n",
        "model +=  pensil + 7 * buku == 15000\n",
        "model += 2 * pensil + 6 * buku, 'profit'\n",
        "\n"
      ],
      "metadata": {
        "id": "oc-nFLzlYnFf"
      },
      "execution_count": 124,
      "outputs": []
    },
    {
      "cell_type": "code",
      "source": [
        "model.solve()\n",
        "pulp.LpStatus[model.status]"
      ],
      "metadata": {
        "colab": {
          "base_uri": "https://localhost:8080/",
          "height": 36
        },
        "id": "TAKU7RsLZDRm",
        "outputId": "005360df-0ccf-4f5a-f0ba-24b7e4e2451c"
      },
      "execution_count": 125,
      "outputs": [
        {
          "output_type": "execute_result",
          "data": {
            "text/plain": [
              "'Optimal'"
            ],
            "application/vnd.google.colaboratory.intrinsic+json": {
              "type": "string"
            }
          },
          "metadata": {},
          "execution_count": 125
        }
      ]
    },
    {
      "cell_type": "code",
      "source": [
        "print (pensil.varValue)\n",
        "print (buku.varValue)\n",
        "print (pulp.value(model.objective))"
      ],
      "metadata": {
        "colab": {
          "base_uri": "https://localhost:8080/"
        },
        "id": "1D5qJ5EYb4KK",
        "outputId": "6cdc1b29-6713-49ce-e9e1-24c0e33a518e"
      },
      "execution_count": 126,
      "outputs": [
        {
          "output_type": "stream",
          "name": "stdout",
          "text": [
            "1000.0\n",
            "2000.0\n",
            "14000.0\n"
          ]
        }
      ]
    },
    {
      "cell_type": "code",
      "source": [
        "l = pulp.LpVariable('l' , lowBound=0, cat ='Integer')\n",
        "p = pulp.LpVariable('p' , lowBound=6, cat ='Integer')"
      ],
      "metadata": {
        "id": "eRLBo0hoczMC"
      },
      "execution_count": 127,
      "outputs": []
    },
    {
      "cell_type": "code",
      "source": [
        "model += 2*(l+p) == 44\n",
        "\n",
        "\n"
      ],
      "metadata": {
        "id": "x81t7Vcnkbdk"
      },
      "execution_count": 128,
      "outputs": []
    },
    {
      "cell_type": "code",
      "source": [
        "model.solve()\n",
        "pulp.LpStatus[model.status]"
      ],
      "metadata": {
        "colab": {
          "base_uri": "https://localhost:8080/",
          "height": 36
        },
        "id": "2FcRDY80qebL",
        "outputId": "1f6d4164-97d2-4162-9617-3c0f8816f6c4"
      },
      "execution_count": 129,
      "outputs": [
        {
          "output_type": "execute_result",
          "data": {
            "text/plain": [
              "'Optimal'"
            ],
            "application/vnd.google.colaboratory.intrinsic+json": {
              "type": "string"
            }
          },
          "metadata": {},
          "execution_count": 129
        }
      ]
    },
    {
      "cell_type": "code",
      "source": [
        "print (p.varValue)\n",
        "print (l.varValue)"
      ],
      "metadata": {
        "colab": {
          "base_uri": "https://localhost:8080/"
        },
        "id": "wiavwkcxqh2J",
        "outputId": "cd8539ef-a427-45cf-a1bf-2aeb57c909ad"
      },
      "execution_count": 130,
      "outputs": [
        {
          "output_type": "stream",
          "name": "stdout",
          "text": [
            "6.0\n",
            "16.0\n"
          ]
        }
      ]
    },
    {
      "cell_type": "code",
      "source": [
        "# import required libraries\n",
        "import numpy as np\n",
        "from scipy.optimize import linprog"
      ],
      "metadata": {
        "id": "0P9YGL_KsV3z"
      },
      "execution_count": 131,
      "outputs": []
    },
    {
      "cell_type": "code",
      "source": [
        "#set the inequality constraints matrix\n",
        "# Note: the inequality constraints must be in the form of <=\n",
        "A = np.array([[1,0] , [2,3] , [1,1] , [-1,0] , [0,-1]])"
      ],
      "metadata": {
        "id": "oWdr8CBqsuMm"
      },
      "execution_count": 132,
      "outputs": []
    },
    {
      "cell_type": "code",
      "source": [
        "# set the inequality constraints vector\n",
        "b = np.array([16,19, 8, 0, 0])\n"
      ],
      "metadata": {
        "id": "EipxlQJJtOsE"
      },
      "execution_count": 133,
      "outputs": []
    },
    {
      "cell_type": "code",
      "source": [
        "#Set the coefficients of linear objective function vector\n",
        "# Note: when maximizing, change the signs of the c vector coefficient\n",
        "c = np.array([-5, -7])# Solve linear programming problem\n",
        "res = linprog(c, A_ub=A, b_ub=b)"
      ],
      "metadata": {
        "id": "q8ajCel3tgQn"
      },
      "execution_count": 134,
      "outputs": []
    },
    {
      "cell_type": "code",
      "source": [
        "#print results\n",
        "print('Optimal value', round(res.fun*-1, ndigits=2),\n",
        "      '\\nx values:', res.x,\n",
        "      '\\nNmuber of iterations performed:', res.nit,\n",
        "      '\\nstatus:', res.message)"
      ],
      "metadata": {
        "colab": {
          "base_uri": "https://localhost:8080/"
        },
        "id": "zdPIXTzyuBpx",
        "outputId": "dc02ec2f-219c-43f8-a7c5-c69ebe259edb"
      },
      "execution_count": 135,
      "outputs": [
        {
          "output_type": "stream",
          "name": "stdout",
          "text": [
            "Optimal value 46.0 \n",
            "x values: [5. 3.] \n",
            "Nmuber of iterations performed: 5 \n",
            "status: Optimization terminated successfully.\n"
          ]
        }
      ]
    },
    {
      "cell_type": "code",
      "source": [
        "A = np.array([[4,12] , [2,3] , [1,1] , [-1,0] , [0,-1]])"
      ],
      "metadata": {
        "id": "xtN2st34urCO"
      },
      "execution_count": 136,
      "outputs": []
    },
    {
      "cell_type": "code",
      "source": [
        "b = np.array([28,21, 0, 0, 0])"
      ],
      "metadata": {
        "id": "PUf3288sv6Ip"
      },
      "execution_count": 137,
      "outputs": []
    },
    {
      "cell_type": "code",
      "source": [
        "c = np.array([-1, -1])\n",
        "res = linprog(c, A_ub=A, b_ub=b)"
      ],
      "metadata": {
        "id": "RealaDz8v8p9"
      },
      "execution_count": 138,
      "outputs": []
    },
    {
      "cell_type": "code",
      "source": [
        "print('Optimal value', round(res.fun*-1, ndigits=2),\n",
        "      '\\nx values:', res.x,\n",
        "      '\\nNmuber of iterations performed:', res.nit,\n",
        "      '\\nstatus:', res.message)"
      ],
      "metadata": {
        "colab": {
          "base_uri": "https://localhost:8080/"
        },
        "id": "wEfDz9W-wZKa",
        "outputId": "dc004c47-c83f-4a6c-97e2-f390dee2414b"
      },
      "execution_count": 139,
      "outputs": [
        {
          "output_type": "stream",
          "name": "stdout",
          "text": [
            "Optimal value 0.0 \n",
            "x values: [3.80878723e-10 3.46995130e-10] \n",
            "Nmuber of iterations performed: 4 \n",
            "status: Optimization terminated successfully.\n"
          ]
        }
      ]
    },
    {
      "cell_type": "code",
      "source": [
        "A = np.array([[3,4] , [0,0] ])"
      ],
      "metadata": {
        "id": "-_9FDbQS3ztU"
      },
      "execution_count": 140,
      "outputs": []
    },
    {
      "cell_type": "code",
      "source": [
        "b = np.array([16, 55])"
      ],
      "metadata": {
        "id": "3XTym8HJ386i"
      },
      "execution_count": 141,
      "outputs": []
    },
    {
      "cell_type": "code",
      "source": [
        "c = np.array([-1, -1])\n",
        "res = linprog(c, A_ub=A, b_ub=b)"
      ],
      "metadata": {
        "id": "cvotA5RH3-GI"
      },
      "execution_count": 142,
      "outputs": []
    },
    {
      "cell_type": "code",
      "source": [
        "print('Optimal value', round(res.fun*-1, ndigits=2),\n",
        "      '\\nx values:', res.x,\n",
        "      '\\nNmuber of iterations performed:', res.nit,\n",
        "      '\\nstatus:', res.message)"
      ],
      "metadata": {
        "colab": {
          "base_uri": "https://localhost:8080/"
        },
        "id": "cYV7dfdx3_vs",
        "outputId": "b1fad342-7419-457d-b427-983680078b5b"
      },
      "execution_count": 143,
      "outputs": [
        {
          "output_type": "stream",
          "name": "stdout",
          "text": [
            "Optimal value 5.33 \n",
            "x values: [5.33333333e+00 1.90759621e-10] \n",
            "Nmuber of iterations performed: 4 \n",
            "status: Optimization terminated successfully.\n"
          ]
        }
      ]
    },
    {
      "cell_type": "code",
      "source": [],
      "metadata": {
        "id": "qnW5DFi_8aUm"
      },
      "execution_count": 143,
      "outputs": []
    }
  ]
}