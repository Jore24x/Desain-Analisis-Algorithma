{
  "nbformat": 4,
  "nbformat_minor": 0,
  "metadata": {
    "colab": {
      "provenance": [],
      "authorship_tag": "ABX9TyN7Tx1RIavml2k8Idsu1dgJ",
      "include_colab_link": true
    },
    "kernelspec": {
      "name": "python3",
      "display_name": "Python 3"
    },
    "language_info": {
      "name": "python"
    }
  },
  "cells": [
    {
      "cell_type": "markdown",
      "metadata": {
        "id": "view-in-github",
        "colab_type": "text"
      },
      "source": [
        "<a href=\"https://colab.research.google.com/github/Jore24x/Desain-Analisis-Algorithma/blob/main/DAA_PERTEMUAN_5.ipynb\" target=\"_parent\"><img src=\"https://colab.research.google.com/assets/colab-badge.svg\" alt=\"Open In Colab\"/></a>"
      ]
    },
    {
      "cell_type": "code",
      "execution_count": 8,
      "metadata": {
        "id": "GwZc2toaoGnS"
      },
      "outputs": [],
      "source": [
        "  #hitung inversi\n",
        "\n",
        "def countInversion (arr):\n",
        "    result = 0\n",
        "    for i in range (len(arr)):\n",
        "      for j in range (i+1 , len(arr)):\n",
        "        if arr [i]>arr[j]:\n",
        "          result += 1\n",
        "    return result"
      ]
    },
    {
      "cell_type": "code",
      "source": [
        "arr = [5,6,7,2,1]"
      ],
      "metadata": {
        "id": "GXefoKBhpmwR"
      },
      "execution_count": 12,
      "outputs": []
    },
    {
      "cell_type": "code",
      "source": [
        "result = countInversion(arr)\n",
        "print(result)"
      ],
      "metadata": {
        "colab": {
          "base_uri": "https://localhost:8080/"
        },
        "id": "UQiwbixspv2e",
        "outputId": "7d603537-780f-4c5d-eda4-7f777638fd67"
      },
      "execution_count": 13,
      "outputs": [
        {
          "output_type": "stream",
          "name": "stdout",
          "text": [
            "7\n"
          ]
        }
      ]
    },
    {
      "cell_type": "code",
      "source": [
        "def countInversion(arr):\n",
        "  icount=0\n",
        "  if len(arr)<=1:\n",
        "    return icount\n",
        "\n",
        "  mid=len(arr)//2\n",
        "  left=arr[:mid]\n",
        "  right=arr[mid:]\n",
        "  icount+=countInversion(left)\n",
        "  icount+=countInversion(right)\n",
        "  i=j=k=0\n",
        "\n",
        "  #print(left)\n",
        "  #print(right)\n",
        "  while i<len(left) and j<len(right):\n",
        "    if left[i]<right[j]:\n",
        "      arr[k]=left[i]\n",
        "      i+=1\n",
        "    else:\n",
        "      #print(left[i] , right[j]):\n",
        "      arr[k]= right[j]\n",
        "      j+=1\n",
        "      icount+=(mid-i)\n",
        "    k+=1\n",
        "  while i<len(left):\n",
        "    arr[k]=left[i]\n",
        "    i+=1\n",
        "    k+=1\n",
        "  while j<len(right):\n",
        "    arr[k]+right[j]\n",
        "    j+=1\n",
        "    k+=1\n",
        "  return icount"
      ],
      "metadata": {
        "id": "xCE88-vpvnm0"
      },
      "execution_count": 24,
      "outputs": []
    },
    {
      "cell_type": "code",
      "source": [
        "arr=[1,20,6,4,5]"
      ],
      "metadata": {
        "id": "sHdVWIarwOl2"
      },
      "execution_count": 22,
      "outputs": []
    },
    {
      "cell_type": "code",
      "source": [
        "result = countInversion(arr)\n",
        "print(result)"
      ],
      "metadata": {
        "colab": {
          "base_uri": "https://localhost:8080/"
        },
        "id": "fQo5gkYWxa-t",
        "outputId": "ea30697f-4084-447d-8c56-98d2ec4cefe0"
      },
      "execution_count": 25,
      "outputs": [
        {
          "output_type": "stream",
          "name": "stdout",
          "text": [
            "5\n"
          ]
        }
      ]
    },
    {
      "cell_type": "code",
      "source": [
        "def maxSubSum(arr):\n",
        "  max_so_far=0\n",
        "  max_ending_here=0\n",
        "  for i in range(len(arr)):\n",
        "    max_ending_here+=arr[i]\n",
        "    if max_ending_here>max_so_far:\n",
        "      max_so_far=max_ending_here\n",
        "    if max_ending_here<0:\n",
        "      max_ending_here=0\n",
        "  return max_so_far\n"
      ],
      "metadata": {
        "id": "SpmmXztj5tPr"
      },
      "execution_count": 26,
      "outputs": []
    },
    {
      "cell_type": "code",
      "source": [
        "arr=[-2,-5,6,-2,-3,1,5,-6]\n",
        "result=maxSubSum(arr)\n",
        "print(result)"
      ],
      "metadata": {
        "colab": {
          "base_uri": "https://localhost:8080/"
        },
        "id": "7wM_QEpa6h-3",
        "outputId": "0eb4f5a8-96b9-4e8f-ff4b-f43307b2993f"
      },
      "execution_count": 27,
      "outputs": [
        {
          "output_type": "stream",
          "name": "stdout",
          "text": [
            "7\n"
          ]
        }
      ]
    },
    {
      "cell_type": "code",
      "source": [
        "#Menggunakan Divede and Conquer\n",
        "\n",
        "def maxCrossingSum(arr,low,mid,high):\n",
        "  result=0; leftSum=float('-infinity')\n",
        "  for i in range (mid,low-1,-1):\n",
        "    result+=arr[i]\n",
        "    if result>leftSum:\n",
        "      leftSum=result\n",
        "  result=0; rightSum=float('-infinity')\n",
        "  for i in range (mid+1,high+1):\n",
        "    result+=arr[i]\n",
        "    if result>rightSum:\n",
        "          rightSum=result\n",
        "  return leftSum+rightSum\n",
        "\n",
        "def maxSum(arr,low,high):\n",
        "    if low==high:\n",
        "      return arr[low]\n",
        "    mid=(low+high)//2\n",
        "    return max(maxSum(arr,low,mid),maxSum(arr,mid+1,high),maxCrossingSum(arr,low,mid,high))\n"
      ],
      "metadata": {
        "id": "O9M9tlfn8kTk"
      },
      "execution_count": 37,
      "outputs": []
    },
    {
      "cell_type": "code",
      "source": [
        "arr=[-2,-5,6,-2,-3,1,5,-6]\n",
        "result=maxSum(arr,0,len(arr)-1)\n",
        "print(result)"
      ],
      "metadata": {
        "colab": {
          "base_uri": "https://localhost:8080/"
        },
        "id": "vFljKF1X-dx2",
        "outputId": "3d1749e3-3598-4ed0-be69-47e5358e4b5a"
      },
      "execution_count": 38,
      "outputs": [
        {
          "output_type": "stream",
          "name": "stdout",
          "text": [
            "7\n"
          ]
        }
      ]
    },
    {
      "cell_type": "code",
      "source": [
        "#Dengan Devide Conquer\n",
        "def commonPrefix(str1,str2):\n",
        "    n1=len(str1);n2=len(str2)\n",
        "    i,j=0,0\n",
        "    s=\"\"\n",
        "    while i<n1 and j<n2:\n",
        "        if str1[i]==str2[j]:\n",
        "          s+=str1[i]\n",
        "          i+=1\n",
        "          j+=1\n",
        "        else:\n",
        "            break\n",
        "        return s"
      ],
      "metadata": {
        "id": "jjaAFjVwBSJ7"
      },
      "execution_count": 50,
      "outputs": []
    },
    {
      "cell_type": "code",
      "source": [
        "def longestCommonPrefix(arr,low,high):\n",
        "      if low==high:\n",
        "          return arr[low]\n",
        "      mid=(low+high)//2\n",
        "      result1=longestCommonPrefix(arr,low,mid)\n",
        "      result2=longestCommonPrefix(arr,mid+1,high)\n",
        "      result=commonPrefix(result1,result2)\n",
        "      return result"
      ],
      "metadata": {
        "id": "4dfHeGCgCQfP"
      },
      "execution_count": 60,
      "outputs": []
    },
    {
      "cell_type": "code",
      "source": [
        "arr=['geeksForgeeks' , 'geeks' , 'geek' , 'geezer']"
      ],
      "metadata": {
        "id": "ZuYwAgeNDCW4"
      },
      "execution_count": 61,
      "outputs": []
    },
    {
      "cell_type": "code",
      "source": [
        "result=longestCommonPrefix(arr,0,len(arr)-1)"
      ],
      "metadata": {
        "id": "tpC27o9zDMt5"
      },
      "execution_count": 62,
      "outputs": []
    },
    {
      "cell_type": "code",
      "source": [
        "print(result)"
      ],
      "metadata": {
        "colab": {
          "base_uri": "https://localhost:8080/"
        },
        "id": "gPEajzjIDf7R",
        "outputId": "0c4fe36b-1f8a-4e8c-8b50-daf040631bde"
      },
      "execution_count": 63,
      "outputs": [
        {
          "output_type": "stream",
          "name": "stdout",
          "text": [
            "gee\n"
          ]
        }
      ]
    },
    {
      "cell_type": "code",
      "source": [
        "arr=[\"apple\" , \"ape\" , \"april\"]\n",
        "result = longestCommonPrefix(arr,0,len(arr)-1)\n",
        "print(result)"
      ],
      "metadata": {
        "colab": {
          "base_uri": "https://localhost:8080/"
        },
        "id": "Ess_c4E5Eghj",
        "outputId": "17d9d122-cb35-49ae-a181-04a939e775bf"
      },
      "execution_count": 64,
      "outputs": [
        {
          "output_type": "stream",
          "name": "stdout",
          "text": [
            "ap\n"
          ]
        }
      ]
    },
    {
      "cell_type": "code",
      "source": [
        "#Median Dari dua array dengan devide dan conquer\n",
        "\n",
        "def medianOfArray(arr1,arr2,n):\n",
        "    m1=-1 #first number\n",
        "    m2=-1 #second number\n",
        "    count=0\n",
        "    i=j=0\n",
        "    while count<n+1:\n",
        "        count+=1\n",
        "        if i==n: #i==5 index error if arr1[i]<arr[j]is checked\n",
        "            m1=m2\n",
        "            m2=arr2[0]\n",
        "            break\n",
        "        if j==n:\n",
        "            m1=m2\n",
        "            m2=arr1[0]\n",
        "            break\n",
        "        if arr1[i]<arr2[j]:\n",
        "            m1=m2\n",
        "            m2=arr1[i]\n",
        "            i+=1\n",
        "        else:\n",
        "            m1=m2\n",
        "            m2=arr2[j]\n",
        "            j+=1\n",
        "    return (m1+m2)//2        "
      ],
      "metadata": {
        "id": "3jeTguaWJIJ6"
      },
      "execution_count": 114,
      "outputs": []
    },
    {
      "cell_type": "code",
      "source": [
        "arr1=[1,12,14,26,38]\n",
        "arr2=[2,13,17,30,45]"
      ],
      "metadata": {
        "id": "uRohyDrULocq"
      },
      "execution_count": 115,
      "outputs": []
    },
    {
      "cell_type": "code",
      "source": [
        "print(medianOfArray(arr1,arr2,len(arr1)))\n"
      ],
      "metadata": {
        "colab": {
          "base_uri": "https://localhost:8080/"
        },
        "id": "zj1PR9TdL0cv",
        "outputId": "79d8920c-5bf6-4b63-a103-86def8d94f0a"
      },
      "execution_count": 116,
      "outputs": [
        {
          "output_type": "stream",
          "name": "stdout",
          "text": [
            "15\n"
          ]
        }
      ]
    },
    {
      "cell_type": "code",
      "source": [
        "# Floor in sorted array\n",
        "def floorSorted(arr,low,high,x):\n",
        "  #print(low,high)\n",
        "  if low>high:\n",
        "    return -1\n",
        "\n",
        "  if arr[low]>x:\n",
        "    #print(\"inside\")\n",
        "    return -1\n",
        "\n",
        "  if arr[high]<=x:\n",
        "    return arr[high]\n",
        "  \n",
        "  mid=(low+high)//2\n",
        "\n",
        "  if arr [mid]==x:\n",
        "    return arr[mid]\n",
        "\n",
        "  if mid>0 and x>=arr[mid-1] and arr[mid]>x:\n",
        "    return arr[mid-1]\n",
        "  \n",
        "  if mid<high and x<arr[mid+1] and x>=arr[mid]:\n",
        "    return arr[mid]\n",
        "  \n",
        "  if x>arr[mid]:\n",
        "    return floorSorted(arr,mid+1,high,x)\n",
        "  else:\n",
        "    return floorSorted(arr,low,mid-1,x)"
      ],
      "metadata": {
        "id": "AFHczhiDNluT"
      },
      "execution_count": 81,
      "outputs": []
    },
    {
      "cell_type": "code",
      "source": [
        "arr=[1,2,8,10,12,14,19]"
      ],
      "metadata": {
        "id": "U_X38uS2PcGr"
      },
      "execution_count": 82,
      "outputs": []
    },
    {
      "cell_type": "code",
      "source": [
        "x=5"
      ],
      "metadata": {
        "id": "qjv1WetIPk6l"
      },
      "execution_count": 83,
      "outputs": []
    },
    {
      "cell_type": "code",
      "source": [
        "print(floorSorted(arr,0,len(arr)-1,x))"
      ],
      "metadata": {
        "colab": {
          "base_uri": "https://localhost:8080/"
        },
        "id": "JTZQn1p4Pnke",
        "outputId": "4a4996b0-9eb4-4a59-8e63-e0159ff90938"
      },
      "execution_count": 84,
      "outputs": [
        {
          "output_type": "stream",
          "name": "stdout",
          "text": [
            "2\n"
          ]
        }
      ]
    },
    {
      "cell_type": "code",
      "source": [
        "# Mencari nlai terdekat dengan metode divide dan conquer\n",
        "\n",
        "def closestNumber(arr,low,high,x):\n",
        "    if low>high:\n",
        "        return -1\n",
        "    if arr[high]<-x:\n",
        "        return arr[high]\n",
        "    if arr[low]>=x:\n",
        "        return arr[low]\n",
        "    mid=(low+high)//2\n",
        "    if arr[mid]==x:\n",
        "        return arr [mid]\n",
        "    abs_mid=abs(arr[mid]-x)\n",
        "    if mid>0:\n",
        "        abs_left=abs(arr[mid-1]-x)\n",
        "        if abs_left<abs_mid:\n",
        "            return closestNumber(arr,low,mid-1,x)\n",
        "    if mid<high:\n",
        "        abs_right=abs(arr[mid+1]-x)\n",
        "        if abs_right<abs_mid:\n",
        "            return closestNumber(arr,mid+1,high,x)\n",
        "    #print('after)\n",
        "    return arr[mid]\n"
      ],
      "metadata": {
        "id": "pW7KYHZsPywm"
      },
      "execution_count": 88,
      "outputs": []
    },
    {
      "cell_type": "code",
      "source": [
        "arr=[2,5,6,7,8,8,9]"
      ],
      "metadata": {
        "id": "OmIn07WeU_sL"
      },
      "execution_count": 89,
      "outputs": []
    },
    {
      "cell_type": "code",
      "source": [
        "x=9"
      ],
      "metadata": {
        "id": "83cAwnpaVFY1"
      },
      "execution_count": 90,
      "outputs": []
    },
    {
      "cell_type": "code",
      "source": [
        "print(closestNumber(arr,0,len(arr)-1,x))"
      ],
      "metadata": {
        "colab": {
          "base_uri": "https://localhost:8080/"
        },
        "id": "C_57gCmEVHP4",
        "outputId": "354aa760-43cf-4846-fd19-dd8208b27a47"
      },
      "execution_count": 91,
      "outputs": [
        {
          "output_type": "stream",
          "name": "stdout",
          "text": [
            "9\n"
          ]
        }
      ]
    },
    {
      "cell_type": "code",
      "source": [
        "# mencari fixed point dengan metode divide dan conquer\n",
        "\n",
        "def fixedPoint(arr,low,high):\n",
        "    if low>high:\n",
        "        return -1\n",
        "    if arr[high]==high:\n",
        "        return arr[high]\n",
        "    if arr[low]==low:\n",
        "        return arr[low]\n",
        "    mid=(low+high)//2\n",
        "    if arr[mid]==mid:\n",
        "        return arr[mid]\n",
        "    if mid>arr[mid]:\n",
        "        return fixedPoint(arr,mid+1,high)\n",
        "    else:\n",
        "        return fixedPoint(arr,low,mid-1)"
      ],
      "metadata": {
        "id": "ied63H-GVPuv"
      },
      "execution_count": 112,
      "outputs": []
    },
    {
      "cell_type": "code",
      "source": [
        "arr=[9,1,4,5,2]"
      ],
      "metadata": {
        "id": "wtuUQMJbWNHK"
      },
      "execution_count": 110,
      "outputs": []
    },
    {
      "cell_type": "code",
      "source": [
        "print(fixedPoint(arr,0,len(arr)-1))"
      ],
      "metadata": {
        "colab": {
          "base_uri": "https://localhost:8080/"
        },
        "id": "39Dcix9LWQrK",
        "outputId": "a5090df5-8744-4b68-97d6-77378644c914"
      },
      "execution_count": 113,
      "outputs": [
        {
          "output_type": "stream",
          "name": "stdout",
          "text": [
            "1\n"
          ]
        }
      ]
    }
  ]
}