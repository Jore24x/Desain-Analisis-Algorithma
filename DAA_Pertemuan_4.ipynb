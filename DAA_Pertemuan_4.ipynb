{
  "nbformat": 4,
  "nbformat_minor": 0,
  "metadata": {
    "colab": {
      "provenance": [],
      "authorship_tag": "ABX9TyPoMJEvHPmkEzLRAwo5J0Zj",
      "include_colab_link": true
    },
    "kernelspec": {
      "name": "python3",
      "display_name": "Python 3"
    },
    "language_info": {
      "name": "python"
    }
  },
  "cells": [
    {
      "cell_type": "markdown",
      "metadata": {
        "id": "view-in-github",
        "colab_type": "text"
      },
      "source": [
        "<a href=\"https://colab.research.google.com/github/Jore24x/Desain-Analisis-Algorithma/blob/main/DAA_Pertemuan_4.ipynb\" target=\"_parent\"><img src=\"https://colab.research.google.com/assets/colab-badge.svg\" alt=\"Open In Colab\"/></a>"
      ]
    },
    {
      "cell_type": "code",
      "execution_count": 1,
      "metadata": {
        "colab": {
          "base_uri": "https://localhost:8080/"
        },
        "id": "at5ZqCTQ5UpL",
        "outputId": "661350df-3768-494e-e7d8-a178f0dc4aea"
      },
      "outputs": [
        {
          "output_type": "stream",
          "name": "stdout",
          "text": [
            "2 1\n"
          ]
        }
      ],
      "source": [
        "#swap function\n",
        "var1 = 1\n",
        "var2 = 2\n",
        "var1,var2 = var2,var1\n",
        "print (var1,var2)"
      ]
    },
    {
      "cell_type": "code",
      "source": [
        "var1 = 1\n",
        "var2 = 2\n",
        "var3 = 3\n",
        "var1,var2,var3 = var3,var2,var1\n",
        "print (var1,var2,var3)"
      ],
      "metadata": {
        "colab": {
          "base_uri": "https://localhost:8080/"
        },
        "id": "HqAQ_A2m5ua3",
        "outputId": "6fa89114-1452-4933-8d00-6143c7c45ae0"
      },
      "execution_count": 2,
      "outputs": [
        {
          "output_type": "stream",
          "name": "stdout",
          "text": [
            "3 2 1\n"
          ]
        }
      ]
    },
    {
      "cell_type": "code",
      "source": [
        "list = [25,21,22,24,23,27,26]\n",
        "lastElementIndex = len(list)-1\n",
        "print (0,list)\n",
        "for idx in range(lastElementIndex) :\n",
        "  if list [idx] > list [idx+1]:\n",
        "    list[idx] , list [idx+1] = list [idx + 1] , list [idx]\n",
        "  print (idx+1 , list)"
      ],
      "metadata": {
        "colab": {
          "base_uri": "https://localhost:8080/"
        },
        "id": "mFHp-vEV5773",
        "outputId": "ad0057e4-181f-4650-911b-4922902c2cc4"
      },
      "execution_count": 3,
      "outputs": [
        {
          "output_type": "stream",
          "name": "stdout",
          "text": [
            "0 [25, 21, 22, 24, 23, 27, 26]\n",
            "1 [21, 25, 22, 24, 23, 27, 26]\n",
            "2 [21, 22, 25, 24, 23, 27, 26]\n",
            "3 [21, 22, 24, 25, 23, 27, 26]\n",
            "4 [21, 22, 24, 23, 25, 27, 26]\n",
            "5 [21, 22, 24, 23, 25, 27, 26]\n",
            "6 [21, 22, 24, 23, 25, 26, 27]\n"
          ]
        }
      ]
    },
    {
      "cell_type": "code",
      "source": [
        "lastElementIndex = len(list)-1\n",
        "print(0,list)\n",
        "for idx in range(lastElementIndex):\n",
        "\t\t\tif list[idx]>list[idx+1]:\n",
        "\t\t\t   list[idx],list[idx+1]=list[idx+1],list[idx]\n",
        "\t\t\tprint(idx+1,list)"
      ],
      "metadata": {
        "id": "r-ZF-Coa65W7",
        "colab": {
          "base_uri": "https://localhost:8080/"
        },
        "outputId": "7f2c1e40-479c-4364-d5c8-2f7b2b5c01c5"
      },
      "execution_count": 4,
      "outputs": [
        {
          "output_type": "stream",
          "name": "stdout",
          "text": [
            "0 [21, 22, 24, 23, 25, 26, 27]\n",
            "1 [21, 22, 24, 23, 25, 26, 27]\n",
            "2 [21, 22, 24, 23, 25, 26, 27]\n",
            "3 [21, 22, 23, 24, 25, 26, 27]\n",
            "4 [21, 22, 23, 24, 25, 26, 27]\n",
            "5 [21, 22, 23, 24, 25, 26, 27]\n",
            "6 [21, 22, 23, 24, 25, 26, 27]\n"
          ]
        }
      ]
    },
    {
      "cell_type": "code",
      "source": [
        "list"
      ],
      "metadata": {
        "colab": {
          "base_uri": "https://localhost:8080/"
        },
        "id": "2KkFgnXm9lFg",
        "outputId": "bd279bd1-092b-432e-ff07-7f18aba830ad"
      },
      "execution_count": 5,
      "outputs": [
        {
          "output_type": "execute_result",
          "data": {
            "text/plain": [
              "[21, 22, 23, 24, 25, 26, 27]"
            ]
          },
          "metadata": {},
          "execution_count": 5
        }
      ]
    },
    {
      "cell_type": "code",
      "source": [
        "def BubbleSort(list):\n",
        "#Exchange the elements to arange in order\n",
        "\tlastElementIndex = len(list)-1\n",
        "\tfor passNo in range (lastElementIndex,0,-1):\n",
        "\t\tfor idx in range(passNo):\n",
        "\t\t\tif list[idx]>list[idx+1]:\n",
        "\t\t\t   list[idx],list[idx+1]=list[idx+1],list[idx]\n",
        "\treturn list"
      ],
      "metadata": {
        "id": "U3bMQo_w9oJt"
      },
      "execution_count": 6,
      "outputs": []
    },
    {
      "cell_type": "code",
      "source": [
        "#masukkan angka dengan urutan\n",
        "\n",
        "list = [25,21,22,24,23,27,26]"
      ],
      "metadata": {
        "id": "kT6yeNHZ-bNZ"
      },
      "execution_count": 7,
      "outputs": []
    },
    {
      "cell_type": "code",
      "source": [
        "BubbleSort(list)"
      ],
      "metadata": {
        "colab": {
          "base_uri": "https://localhost:8080/"
        },
        "id": "ty1PACZ3-mBZ",
        "outputId": "406f1c69-c317-4736-dd1b-fa26e61b6f07"
      },
      "execution_count": 8,
      "outputs": [
        {
          "output_type": "execute_result",
          "data": {
            "text/plain": [
              "[21, 22, 23, 24, 25, 26, 27]"
            ]
          },
          "metadata": {},
          "execution_count": 8
        }
      ]
    },
    {
      "cell_type": "code",
      "source": [
        "list"
      ],
      "metadata": {
        "colab": {
          "base_uri": "https://localhost:8080/"
        },
        "id": "TYf7xz_R_CqU",
        "outputId": "41f2ea5c-4476-4138-97ca-c8660c6caa7a"
      },
      "execution_count": 9,
      "outputs": [
        {
          "output_type": "execute_result",
          "data": {
            "text/plain": [
              "[21, 22, 23, 24, 25, 26, 27]"
            ]
          },
          "metadata": {},
          "execution_count": 9
        }
      ]
    },
    {
      "cell_type": "code",
      "source": [
        "list = [100,20,60,90,40,30,10]"
      ],
      "metadata": {
        "id": "HkJhEAwp_JyD"
      },
      "execution_count": 10,
      "outputs": []
    },
    {
      "cell_type": "code",
      "source": [
        "BubbleSort(list)"
      ],
      "metadata": {
        "colab": {
          "base_uri": "https://localhost:8080/"
        },
        "id": "DHdq5BRw_WIy",
        "outputId": "cf39a093-85cc-4397-d443-59e78652603c"
      },
      "execution_count": 11,
      "outputs": [
        {
          "output_type": "execute_result",
          "data": {
            "text/plain": [
              "[10, 20, 30, 40, 60, 90, 100]"
            ]
          },
          "metadata": {},
          "execution_count": 11
        }
      ]
    },
    {
      "cell_type": "code",
      "source": [
        "list"
      ],
      "metadata": {
        "colab": {
          "base_uri": "https://localhost:8080/"
        },
        "id": "SMec9cGX_bBr",
        "outputId": "4356a863-b3fe-436f-df56-5dd54d75b580"
      },
      "execution_count": 12,
      "outputs": [
        {
          "output_type": "execute_result",
          "data": {
            "text/plain": [
              "[10, 20, 30, 40, 60, 90, 100]"
            ]
          },
          "metadata": {},
          "execution_count": 12
        }
      ]
    },
    {
      "cell_type": "code",
      "source": [
        "def insertionSort(list):\n",
        "  for i in range (1, len(list)):\n",
        "      j=i-1\n",
        "      next = list[i]\n",
        "#compare the current element with next one\n",
        "      while (list[j] > next) and (j >= 0):\n",
        "            list [j+1] = list[j]\n",
        "            j=j-1\n",
        "      list[j+1] = next\n",
        "  return list\n",
        "\n"
      ],
      "metadata": {
        "id": "ppGFBwT0_eFg"
      },
      "execution_count": 13,
      "outputs": []
    },
    {
      "cell_type": "code",
      "source": [
        "#masukkan angka dengan urutan lainnya\n",
        "list = [35 , 31 , 32 , 34 , 33 , 37 , 36]"
      ],
      "metadata": {
        "id": "ijH3YvnuBQGq"
      },
      "execution_count": 14,
      "outputs": []
    },
    {
      "cell_type": "code",
      "source": [
        "list"
      ],
      "metadata": {
        "colab": {
          "base_uri": "https://localhost:8080/"
        },
        "id": "JZr7AMKPBoOc",
        "outputId": "5c700d97-6c9c-4048-d09e-5227bafc46e7"
      },
      "execution_count": 15,
      "outputs": [
        {
          "output_type": "execute_result",
          "data": {
            "text/plain": [
              "[35, 31, 32, 34, 33, 37, 36]"
            ]
          },
          "metadata": {},
          "execution_count": 15
        }
      ]
    },
    {
      "cell_type": "code",
      "source": [
        "insertionSort(list)"
      ],
      "metadata": {
        "colab": {
          "base_uri": "https://localhost:8080/"
        },
        "id": "YM7uPuaQBps7",
        "outputId": "7c866721-c8a5-4a6a-aba9-533cf6afdfb2"
      },
      "execution_count": 16,
      "outputs": [
        {
          "output_type": "execute_result",
          "data": {
            "text/plain": [
              "[31, 32, 33, 34, 35, 36, 37]"
            ]
          },
          "metadata": {},
          "execution_count": 16
        }
      ]
    },
    {
      "cell_type": "code",
      "source": [
        "list\n"
      ],
      "metadata": {
        "colab": {
          "base_uri": "https://localhost:8080/"
        },
        "id": "BaglWLHcB0dY",
        "outputId": "0865faf3-78d1-47d7-cf12-b050b42e0925"
      },
      "execution_count": 17,
      "outputs": [
        {
          "output_type": "execute_result",
          "data": {
            "text/plain": [
              "[31, 32, 33, 34, 35, 36, 37]"
            ]
          },
          "metadata": {},
          "execution_count": 17
        }
      ]
    },
    {
      "cell_type": "code",
      "source": [
        "list = [25,26,22,24,27,23,21]\n",
        "insertionSort(list)\n",
        "print(list)"
      ],
      "metadata": {
        "colab": {
          "base_uri": "https://localhost:8080/"
        },
        "id": "-qtdiXc5B6h4",
        "outputId": "2e5131f9-83d0-4d58-c5ae-b2dc36904ca6"
      },
      "execution_count": 18,
      "outputs": [
        {
          "output_type": "stream",
          "name": "stdout",
          "text": [
            "[21, 22, 23, 24, 25, 26, 27]\n"
          ]
        }
      ]
    },
    {
      "cell_type": "code",
      "source": [
        "list = [89,12,57,16,25,11,75]\n",
        "insertionSort(list)\n",
        "print(list)"
      ],
      "metadata": {
        "colab": {
          "base_uri": "https://localhost:8080/"
        },
        "id": "hYSSomFyCWin",
        "outputId": "762ab703-3fd5-47c1-9e68-e4e55a69b3e4"
      },
      "execution_count": 19,
      "outputs": [
        {
          "output_type": "stream",
          "name": "stdout",
          "text": [
            "[11, 12, 16, 25, 57, 75, 89]\n"
          ]
        }
      ]
    },
    {
      "cell_type": "code",
      "source": [
        "def SelectionSort(list):\n",
        "  for fill_slot in range (len(list) -1 , 0 , -1):\n",
        "    max_index = 0\n",
        "    for location in range (1 , fill_slot + 1):\n",
        "      if list[location]> list[max_index]:\n",
        "        max_index = location\n",
        "    list[fill_slot] , list[max_index] = list[max_index] , list[fill_slot]\n",
        "  return list"
      ],
      "metadata": {
        "id": "sxf7G3rGCnsi"
      },
      "execution_count": 20,
      "outputs": []
    },
    {
      "cell_type": "code",
      "source": [
        "list = [70,15,25,19,34,44]\n",
        "SelectionSort(list)"
      ],
      "metadata": {
        "colab": {
          "base_uri": "https://localhost:8080/"
        },
        "id": "WziYtEO6FL2J",
        "outputId": "a02e0fe9-9435-46c0-c647-eae482ac1657"
      },
      "execution_count": 21,
      "outputs": [
        {
          "output_type": "execute_result",
          "data": {
            "text/plain": [
              "[15, 19, 25, 34, 44, 70]"
            ]
          },
          "metadata": {},
          "execution_count": 21
        }
      ]
    },
    {
      "cell_type": "code",
      "source": [
        "list"
      ],
      "metadata": {
        "colab": {
          "base_uri": "https://localhost:8080/"
        },
        "id": "_KuZWCqIFVo6",
        "outputId": "14e5d40e-5089-49a6-e3bf-dbbcffc9b608"
      },
      "execution_count": 22,
      "outputs": [
        {
          "output_type": "execute_result",
          "data": {
            "text/plain": [
              "[15, 19, 25, 34, 44, 70]"
            ]
          },
          "metadata": {},
          "execution_count": 22
        }
      ]
    },
    {
      "cell_type": "code",
      "source": [
        "list = [70,15,25,19,34,44]\n",
        "SelectionSort(list)\n",
        "print(list)"
      ],
      "metadata": {
        "colab": {
          "base_uri": "https://localhost:8080/"
        },
        "id": "2mHmBxF4FhS_",
        "outputId": "c57ae9ae-8a2c-474e-c84e-20718b6958fd"
      },
      "execution_count": 23,
      "outputs": [
        {
          "output_type": "stream",
          "name": "stdout",
          "text": [
            "[15, 19, 25, 34, 44, 70]\n"
          ]
        }
      ]
    },
    {
      "cell_type": "code",
      "source": [
        "list = [89 , 12 , 57 , 16 , 25]\n",
        "SelectionSort(list)\n",
        "print(list)"
      ],
      "metadata": {
        "colab": {
          "base_uri": "https://localhost:8080/"
        },
        "id": "fn6a5trXFonn",
        "outputId": "655d2650-9cc4-4cda-e7e2-5e8f9bbd8124"
      },
      "execution_count": 24,
      "outputs": [
        {
          "output_type": "stream",
          "name": "stdout",
          "text": [
            "[12, 16, 25, 57, 89]\n"
          ]
        }
      ]
    },
    {
      "cell_type": "code",
      "source": [
        "def LinearSearch(list , item):\n",
        "  index = 0\n",
        "  found = False\n",
        "\n",
        "# match the value with each data element\n",
        "  while index < len(list) and found is False:\n",
        "      if list[index] == item:\n",
        "        found = True\n",
        "      else:\n",
        "        index = index + 1\n",
        "  return found\n"
      ],
      "metadata": {
        "id": "Kj8Dx81cF2MW"
      },
      "execution_count": 25,
      "outputs": []
    },
    {
      "cell_type": "code",
      "source": [
        "list = [12 , 33 , 11 , 99 , 22 , 55 , 90]\n",
        "print(LinearSearch(list , 12))\n",
        "print(LinearSearch(list , 91))"
      ],
      "metadata": {
        "colab": {
          "base_uri": "https://localhost:8080/"
        },
        "id": "voA08iDCGtUP",
        "outputId": "91f701e2-824a-4b02-c08b-fb2a7531b26f"
      },
      "execution_count": 26,
      "outputs": [
        {
          "output_type": "stream",
          "name": "stdout",
          "text": [
            "True\n",
            "False\n"
          ]
        }
      ]
    },
    {
      "cell_type": "code",
      "source": [
        "list= ['y' , 'u' , 'i' , 'w' , 'o' , 'a' , 'q' , 'u' , 'j' , 'p']\n",
        "print(LinearSearch(list , 'a'))"
      ],
      "metadata": {
        "colab": {
          "base_uri": "https://localhost:8080/"
        },
        "id": "zyN35qcqHxO6",
        "outputId": "4406d75e-29d6-4818-ea0f-a778c64cdc1a"
      },
      "execution_count": 27,
      "outputs": [
        {
          "output_type": "stream",
          "name": "stdout",
          "text": [
            "True\n"
          ]
        }
      ]
    },
    {
      "cell_type": "code",
      "source": [
        "from re import T\n",
        "def BinarySearch(list , item):\n",
        "  first = 0\n",
        "  last = len(list)-1\n",
        "  found = False\n",
        "\n",
        "  while first <= last and not found:\n",
        "    midpoint = (first + last)//2\n",
        "    if list[midpoint] == item:\n",
        "      found = True\n",
        "    else:\n",
        "      if item < list [midpoint]:\n",
        "        last = midpoint-1\n",
        "      else:\n",
        "        first = midpoint+1\n",
        "  return found"
      ],
      "metadata": {
        "id": "4oZayphZIQtB"
      },
      "execution_count": 28,
      "outputs": []
    },
    {
      "cell_type": "code",
      "source": [
        "list = [12 , 33 , 11 , 99 , 22 , 55 , 90]\n",
        "print(BinarySearch(list, 12))\n",
        "print(BinarySearch(list, 91))"
      ],
      "metadata": {
        "colab": {
          "base_uri": "https://localhost:8080/"
        },
        "id": "VAxMt45dJB6K",
        "outputId": "0dabba18-f147-45e5-b797-83e01b6be391"
      },
      "execution_count": 29,
      "outputs": [
        {
          "output_type": "stream",
          "name": "stdout",
          "text": [
            "True\n",
            "False\n"
          ]
        }
      ]
    },
    {
      "cell_type": "code",
      "source": [
        "list= ['y' , 'u' , 'i' , 'w' , 'o' , 'a' , 'q' , 'u' , 'j' , 'p']\n",
        "print(BinarySearch(list , 'a'))"
      ],
      "metadata": {
        "colab": {
          "base_uri": "https://localhost:8080/"
        },
        "id": "ikswJ-EiJ8tO",
        "outputId": "cf40f60f-6a82-4d94-8aa8-2b567b2f3fb8"
      },
      "execution_count": 30,
      "outputs": [
        {
          "output_type": "stream",
          "name": "stdout",
          "text": [
            "False\n"
          ]
        }
      ]
    },
    {
      "cell_type": "code",
      "source": [
        "def IntPolsearch(list,x):\n",
        "    idx0 = 0\n",
        "    idxn = (len(list)-1)\n",
        "    found = False\n",
        "    while idx0 <= idxn and x >= list[idx0] and x <= list[idxn]:\n",
        "        \n",
        "        mid = idx0 +int(((float(idxn - idx0)/( list[idxn] - list[idx0])) * (x - list[idx0])))\n",
        "\n",
        "        if list[mid] == x:\n",
        "            found = True\n",
        "            return found\n",
        "    \n",
        "        if list[mid] < x:\n",
        "            idx0 = mid +1\n",
        "    return found\n"
      ],
      "metadata": {
        "id": "fQlA7R1RKlaR"
      },
      "execution_count": 31,
      "outputs": []
    },
    {
      "cell_type": "code",
      "source": [
        "list = [12,33,11,99,22,55,90]\n",
        "sorted_list = BubbleSort(list)\n",
        "print(IntPolsearch(list,12))\n",
        "print(IntPolsearch(list,91))\n"
      ],
      "metadata": {
        "id": "LZrxBnSOX3oQ",
        "outputId": "bdb21b92-7887-4c24-99c7-9ee42f59620c",
        "colab": {
          "base_uri": "https://localhost:8080/"
        }
      },
      "execution_count": 32,
      "outputs": [
        {
          "output_type": "stream",
          "name": "stdout",
          "text": [
            "True\n",
            "False\n"
          ]
        }
      ]
    },
    {
      "cell_type": "code",
      "source": [],
      "metadata": {
        "id": "uDObaTDmK9bY"
      },
      "execution_count": 32,
      "outputs": []
    },
    {
      "cell_type": "markdown",
      "source": [],
      "metadata": {
        "id": "DYO3kNd5Bgr6"
      }
    }
  ]
}